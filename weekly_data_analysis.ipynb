{
 "cells": [
  {
   "cell_type": "markdown",
   "id": "f95e0ac5",
   "metadata": {},
   "source": [
    "### Boston Data"
   ]
  },
  {
   "cell_type": "code",
   "execution_count": 11,
   "id": "1e44dd4a",
   "metadata": {},
   "outputs": [],
   "source": [
    "import pandas as pd\n",
    "file_path = '/Users/yujinlee/Google_Drive/NYU/Fall_2023/Capstone/CrimeData'"
   ]
  },
  {
   "cell_type": "code",
   "execution_count": 12,
   "id": "85f26eb8",
   "metadata": {},
   "outputs": [
    {
     "data": {
      "text/html": [
       "<div>\n",
       "<style scoped>\n",
       "    .dataframe tbody tr th:only-of-type {\n",
       "        vertical-align: middle;\n",
       "    }\n",
       "\n",
       "    .dataframe tbody tr th {\n",
       "        vertical-align: top;\n",
       "    }\n",
       "\n",
       "    .dataframe thead th {\n",
       "        text-align: right;\n",
       "    }\n",
       "</style>\n",
       "<table border=\"1\" class=\"dataframe\">\n",
       "  <thead>\n",
       "    <tr style=\"text-align: right;\">\n",
       "      <th></th>\n",
       "      <th>ZIP5</th>\n",
       "      <th>occurred_on_date</th>\n",
       "      <th>total_count</th>\n",
       "    </tr>\n",
       "  </thead>\n",
       "  <tbody>\n",
       "    <tr>\n",
       "      <th>0</th>\n",
       "      <td>2108</td>\n",
       "      <td>2018-01-07</td>\n",
       "      <td>12</td>\n",
       "    </tr>\n",
       "    <tr>\n",
       "      <th>1</th>\n",
       "      <td>2108</td>\n",
       "      <td>2018-01-14</td>\n",
       "      <td>16</td>\n",
       "    </tr>\n",
       "    <tr>\n",
       "      <th>2</th>\n",
       "      <td>2108</td>\n",
       "      <td>2018-01-21</td>\n",
       "      <td>18</td>\n",
       "    </tr>\n",
       "    <tr>\n",
       "      <th>3</th>\n",
       "      <td>2108</td>\n",
       "      <td>2018-01-28</td>\n",
       "      <td>16</td>\n",
       "    </tr>\n",
       "    <tr>\n",
       "      <th>4</th>\n",
       "      <td>2108</td>\n",
       "      <td>2018-02-04</td>\n",
       "      <td>15</td>\n",
       "    </tr>\n",
       "  </tbody>\n",
       "</table>\n",
       "</div>"
      ],
      "text/plain": [
       "   ZIP5 occurred_on_date  total_count\n",
       "0  2108       2018-01-07           12\n",
       "1  2108       2018-01-14           16\n",
       "2  2108       2018-01-21           18\n",
       "3  2108       2018-01-28           16\n",
       "4  2108       2018-02-04           15"
      ]
     },
     "execution_count": 12,
     "metadata": {},
     "output_type": "execute_result"
    }
   ],
   "source": [
    "df_boston = pd.read_csv(file_path + '/boston_weekly_data.csv', low_memory = False)\n",
    "df_boston.head()"
   ]
  },
  {
   "cell_type": "code",
   "execution_count": 13,
   "id": "348c94f5",
   "metadata": {},
   "outputs": [
    {
     "data": {
      "text/plain": [
       "(9155, 3)"
      ]
     },
     "execution_count": 13,
     "metadata": {},
     "output_type": "execute_result"
    }
   ],
   "source": [
    "df_boston.shape"
   ]
  },
  {
   "cell_type": "code",
   "execution_count": 28,
   "id": "5efea3da",
   "metadata": {},
   "outputs": [
    {
     "data": {
      "text/plain": [
       "411030"
      ]
     },
     "execution_count": 28,
     "metadata": {},
     "output_type": "execute_result"
    }
   ],
   "source": [
    "# total sum\n",
    "df_boston['total_count'].sum()"
   ]
  },
  {
   "cell_type": "code",
   "execution_count": 27,
   "id": "8ad4eae8",
   "metadata": {},
   "outputs": [
    {
     "data": {
      "text/plain": [
       "33"
      ]
     },
     "execution_count": 27,
     "metadata": {},
     "output_type": "execute_result"
    }
   ],
   "source": [
    "len(df_boston['ZIP5'].unique())"
   ]
  },
  {
   "cell_type": "code",
   "execution_count": 14,
   "id": "212c0fb8",
   "metadata": {},
   "outputs": [],
   "source": [
    "df_boston['occurred_on_date'] = pd.to_datetime(df_boston['occurred_on_date'])"
   ]
  },
  {
   "cell_type": "code",
   "execution_count": 48,
   "id": "79cb3d6b",
   "metadata": {},
   "outputs": [
    {
     "data": {
      "text/plain": [
       "14576"
      ]
     },
     "execution_count": 48,
     "metadata": {},
     "output_type": "execute_result"
    }
   ],
   "source": [
    "# lockdown 2020\n",
    "df_boston[(df_boston['occurred_on_date'] >= pd.Timestamp('2020-03-19')) & (df_boston['occurred_on_date'] <= pd.Timestamp('2020-06-15'))]['total_count'].sum()"
   ]
  },
  {
   "cell_type": "code",
   "execution_count": 49,
   "id": "93447515",
   "metadata": {},
   "outputs": [
    {
     "data": {
      "text/plain": [
       "21761"
      ]
     },
     "execution_count": 49,
     "metadata": {},
     "output_type": "execute_result"
    }
   ],
   "source": [
    "# lockdown 2018\n",
    "df_boston[(df_boston['occurred_on_date'] >= pd.Timestamp('2018-03-19')) & (df_boston['occurred_on_date'] <= pd.Timestamp('2018-06-15'))]['total_count'].sum()"
   ]
  },
  {
   "cell_type": "code",
   "execution_count": 50,
   "id": "4f5abeec",
   "metadata": {},
   "outputs": [
    {
     "data": {
      "text/plain": [
       "19424"
      ]
     },
     "execution_count": 50,
     "metadata": {},
     "output_type": "execute_result"
    }
   ],
   "source": [
    "# lockdown 2019\n",
    "df_boston[(df_boston['occurred_on_date'] >= pd.Timestamp('2019-03-19')) & (df_boston['occurred_on_date'] <= pd.Timestamp('2019-06-15'))]['total_count'].sum()"
   ]
  },
  {
   "cell_type": "code",
   "execution_count": 51,
   "id": "1bdf2784",
   "metadata": {},
   "outputs": [
    {
     "data": {
      "text/plain": [
       "16899"
      ]
     },
     "execution_count": 51,
     "metadata": {},
     "output_type": "execute_result"
    }
   ],
   "source": [
    "# lockdown 2021\n",
    "df_boston[(df_boston['occurred_on_date'] >= pd.Timestamp('2021-03-19')) & (df_boston['occurred_on_date'] <= pd.Timestamp('2021-06-15'))]['total_count'].sum()"
   ]
  },
  {
   "cell_type": "markdown",
   "id": "82110b40",
   "metadata": {},
   "source": [
    "### LA Data"
   ]
  },
  {
   "cell_type": "code",
   "execution_count": 21,
   "id": "17d86626",
   "metadata": {},
   "outputs": [
    {
     "data": {
      "text/html": [
       "<div>\n",
       "<style scoped>\n",
       "    .dataframe tbody tr th:only-of-type {\n",
       "        vertical-align: middle;\n",
       "    }\n",
       "\n",
       "    .dataframe tbody tr th {\n",
       "        vertical-align: top;\n",
       "    }\n",
       "\n",
       "    .dataframe thead th {\n",
       "        text-align: right;\n",
       "    }\n",
       "</style>\n",
       "<table border=\"1\" class=\"dataframe\">\n",
       "  <thead>\n",
       "    <tr style=\"text-align: right;\">\n",
       "      <th></th>\n",
       "      <th>ZCTA5CE10</th>\n",
       "      <th>date_occ</th>\n",
       "      <th>total_count</th>\n",
       "    </tr>\n",
       "  </thead>\n",
       "  <tbody>\n",
       "    <tr>\n",
       "      <th>0</th>\n",
       "      <td>90001</td>\n",
       "      <td>2018-01-07</td>\n",
       "      <td>21</td>\n",
       "    </tr>\n",
       "    <tr>\n",
       "      <th>1</th>\n",
       "      <td>90001</td>\n",
       "      <td>2018-01-14</td>\n",
       "      <td>14</td>\n",
       "    </tr>\n",
       "    <tr>\n",
       "      <th>2</th>\n",
       "      <td>90001</td>\n",
       "      <td>2018-01-21</td>\n",
       "      <td>17</td>\n",
       "    </tr>\n",
       "    <tr>\n",
       "      <th>3</th>\n",
       "      <td>90001</td>\n",
       "      <td>2018-01-28</td>\n",
       "      <td>16</td>\n",
       "    </tr>\n",
       "    <tr>\n",
       "      <th>4</th>\n",
       "      <td>90001</td>\n",
       "      <td>2018-02-04</td>\n",
       "      <td>23</td>\n",
       "    </tr>\n",
       "  </tbody>\n",
       "</table>\n",
       "</div>"
      ],
      "text/plain": [
       "   ZCTA5CE10    date_occ  total_count\n",
       "0      90001  2018-01-07           21\n",
       "1      90001  2018-01-14           14\n",
       "2      90001  2018-01-21           17\n",
       "3      90001  2018-01-28           16\n",
       "4      90001  2018-02-04           23"
      ]
     },
     "execution_count": 21,
     "metadata": {},
     "output_type": "execute_result"
    }
   ],
   "source": [
    "df_la = pd.read_csv(file_path + '/LA_weekly_data.csv', low_memory = False)\n",
    "df_la.head()"
   ]
  },
  {
   "cell_type": "code",
   "execution_count": 29,
   "id": "d188143f",
   "metadata": {},
   "outputs": [
    {
     "data": {
      "text/plain": [
       "(40089, 3)"
      ]
     },
     "execution_count": 29,
     "metadata": {},
     "output_type": "execute_result"
    }
   ],
   "source": [
    "df_la.shape"
   ]
  },
  {
   "cell_type": "code",
   "execution_count": 30,
   "id": "f553c6d1",
   "metadata": {},
   "outputs": [
    {
     "data": {
      "text/plain": [
       "151"
      ]
     },
     "execution_count": 30,
     "metadata": {},
     "output_type": "execute_result"
    }
   ],
   "source": [
    "len(df_la['ZCTA5CE10'].unique())"
   ]
  },
  {
   "cell_type": "code",
   "execution_count": 31,
   "id": "7767ba39",
   "metadata": {},
   "outputs": [
    {
     "data": {
      "text/plain": [
       "1240966"
      ]
     },
     "execution_count": 31,
     "metadata": {},
     "output_type": "execute_result"
    }
   ],
   "source": [
    "# total sum\n",
    "df_la['total_count'].sum()"
   ]
  },
  {
   "cell_type": "code",
   "execution_count": 32,
   "id": "d0ece3d7",
   "metadata": {},
   "outputs": [],
   "source": [
    "df_la['date_occ'] = pd.to_datetime(df_la['date_occ'])"
   ]
  },
  {
   "cell_type": "code",
   "execution_count": 34,
   "id": "ef6fb950",
   "metadata": {},
   "outputs": [
    {
     "data": {
      "text/plain": [
       "59870"
      ]
     },
     "execution_count": 34,
     "metadata": {},
     "output_type": "execute_result"
    }
   ],
   "source": [
    "# lockdown 2020\n",
    "df_la[(df_la['date_occ'] >= pd.Timestamp('2020-03-19')) & (df_la['date_occ'] <= pd.Timestamp('2020-06-15'))]['total_count'].sum()"
   ]
  },
  {
   "cell_type": "code",
   "execution_count": 35,
   "id": "caae1fef",
   "metadata": {},
   "outputs": [
    {
     "data": {
      "text/plain": [
       "71502"
      ]
     },
     "execution_count": 35,
     "metadata": {},
     "output_type": "execute_result"
    }
   ],
   "source": [
    "# lockdown 2018\n",
    "df_la[(df_la['date_occ'] >= pd.Timestamp('2018-03-19')) & (df_la['date_occ'] <= pd.Timestamp('2018-06-15'))]['total_count'].sum()"
   ]
  },
  {
   "cell_type": "code",
   "execution_count": 36,
   "id": "37b5c57e",
   "metadata": {},
   "outputs": [
    {
     "data": {
      "text/plain": [
       "67821"
      ]
     },
     "execution_count": 36,
     "metadata": {},
     "output_type": "execute_result"
    }
   ],
   "source": [
    "# lockdown 2019\n",
    "df_la[(df_la['date_occ'] >= pd.Timestamp('2019-03-19')) & (df_la['date_occ'] <= pd.Timestamp('2019-06-16'))]['total_count'].sum()"
   ]
  },
  {
   "cell_type": "code",
   "execution_count": 52,
   "id": "f29c5bba",
   "metadata": {},
   "outputs": [
    {
     "data": {
      "text/plain": [
       "61812"
      ]
     },
     "execution_count": 52,
     "metadata": {},
     "output_type": "execute_result"
    }
   ],
   "source": [
    "# lockdown 2021\n",
    "df_la[(df_la['date_occ'] >= pd.Timestamp('2021-03-19')) & (df_la['date_occ'] <= pd.Timestamp('2021-06-16'))]['total_count'].sum()"
   ]
  },
  {
   "cell_type": "markdown",
   "id": "0253383e",
   "metadata": {},
   "source": [
    "### NYC Data"
   ]
  },
  {
   "cell_type": "code",
   "execution_count": 37,
   "id": "376505cb",
   "metadata": {
    "scrolled": true
   },
   "outputs": [
    {
     "data": {
      "text/html": [
       "<div>\n",
       "<style scoped>\n",
       "    .dataframe tbody tr th:only-of-type {\n",
       "        vertical-align: middle;\n",
       "    }\n",
       "\n",
       "    .dataframe tbody tr th {\n",
       "        vertical-align: top;\n",
       "    }\n",
       "\n",
       "    .dataframe thead th {\n",
       "        text-align: right;\n",
       "    }\n",
       "</style>\n",
       "<table border=\"1\" class=\"dataframe\">\n",
       "  <thead>\n",
       "    <tr style=\"text-align: right;\">\n",
       "      <th></th>\n",
       "      <th>modzcta</th>\n",
       "      <th>CMPLNT_FR_DT</th>\n",
       "      <th>total_count</th>\n",
       "    </tr>\n",
       "  </thead>\n",
       "  <tbody>\n",
       "    <tr>\n",
       "      <th>0</th>\n",
       "      <td>10001</td>\n",
       "      <td>2018-01-07</td>\n",
       "      <td>4</td>\n",
       "    </tr>\n",
       "    <tr>\n",
       "      <th>1</th>\n",
       "      <td>10001</td>\n",
       "      <td>2018-01-14</td>\n",
       "      <td>3</td>\n",
       "    </tr>\n",
       "    <tr>\n",
       "      <th>2</th>\n",
       "      <td>10001</td>\n",
       "      <td>2018-01-21</td>\n",
       "      <td>1</td>\n",
       "    </tr>\n",
       "    <tr>\n",
       "      <th>3</th>\n",
       "      <td>10001</td>\n",
       "      <td>2018-01-28</td>\n",
       "      <td>4</td>\n",
       "    </tr>\n",
       "    <tr>\n",
       "      <th>4</th>\n",
       "      <td>10001</td>\n",
       "      <td>2018-02-04</td>\n",
       "      <td>3</td>\n",
       "    </tr>\n",
       "  </tbody>\n",
       "</table>\n",
       "</div>"
      ],
      "text/plain": [
       "   modzcta CMPLNT_FR_DT  total_count\n",
       "0    10001   2018-01-07            4\n",
       "1    10001   2018-01-14            3\n",
       "2    10001   2018-01-21            1\n",
       "3    10001   2018-01-28            4\n",
       "4    10001   2018-02-04            3"
      ]
     },
     "execution_count": 37,
     "metadata": {},
     "output_type": "execute_result"
    }
   ],
   "source": [
    "df_nyc = pd.read_csv(file_path + '/nyc_weekly_data.csv', low_memory = False)\n",
    "df_nyc.head()"
   ]
  },
  {
   "cell_type": "code",
   "execution_count": 43,
   "id": "87d7b921",
   "metadata": {},
   "outputs": [
    {
     "data": {
      "text/plain": [
       "(48066, 3)"
      ]
     },
     "execution_count": 43,
     "metadata": {},
     "output_type": "execute_result"
    }
   ],
   "source": [
    "df_nyc.shape"
   ]
  },
  {
   "cell_type": "code",
   "execution_count": 44,
   "id": "12a1e103",
   "metadata": {},
   "outputs": [
    {
     "data": {
      "text/plain": [
       "178"
      ]
     },
     "execution_count": 44,
     "metadata": {},
     "output_type": "execute_result"
    }
   ],
   "source": [
    "len(df_nyc['modzcta'].unique())"
   ]
  },
  {
   "cell_type": "code",
   "execution_count": 45,
   "id": "c6a11d3e",
   "metadata": {},
   "outputs": [
    {
     "data": {
      "text/plain": [
       "2534807"
      ]
     },
     "execution_count": 45,
     "metadata": {},
     "output_type": "execute_result"
    }
   ],
   "source": [
    "# total sum\n",
    "df_nyc['total_count'].sum()"
   ]
  },
  {
   "cell_type": "code",
   "execution_count": 38,
   "id": "c1884d4b",
   "metadata": {},
   "outputs": [],
   "source": [
    "df_nyc['CMPLNT_FR_DT'] = pd.to_datetime(df_nyc['CMPLNT_FR_DT'])"
   ]
  },
  {
   "cell_type": "code",
   "execution_count": 53,
   "id": "eec57f39",
   "metadata": {},
   "outputs": [
    {
     "data": {
      "text/plain": [
       "86487"
      ]
     },
     "execution_count": 53,
     "metadata": {},
     "output_type": "execute_result"
    }
   ],
   "source": [
    "# lockdown 2020\n",
    "df_nyc[(df_nyc['CMPLNT_FR_DT'] >= pd.Timestamp('2020-03-19')) & (df_nyc['CMPLNT_FR_DT'] <= pd.Timestamp('2020-06-15'))]['total_count'].sum()"
   ]
  },
  {
   "cell_type": "code",
   "execution_count": 54,
   "id": "2705c8d8",
   "metadata": {},
   "outputs": [
    {
     "data": {
      "text/plain": [
       "107820"
      ]
     },
     "execution_count": 54,
     "metadata": {},
     "output_type": "execute_result"
    }
   ],
   "source": [
    "# lockdown 2018\n",
    "df_nyc[(df_nyc['CMPLNT_FR_DT'] >= pd.Timestamp('2018-03-19')) & (df_nyc['CMPLNT_FR_DT'] <= pd.Timestamp('2018-06-15'))]['total_count'].sum()"
   ]
  },
  {
   "cell_type": "code",
   "execution_count": 55,
   "id": "57f8185e",
   "metadata": {},
   "outputs": [
    {
     "data": {
      "text/plain": [
       "105524"
      ]
     },
     "execution_count": 55,
     "metadata": {},
     "output_type": "execute_result"
    }
   ],
   "source": [
    "# lockdown 2019\n",
    "df_nyc[(df_nyc['CMPLNT_FR_DT'] >= pd.Timestamp('2019-03-19')) & (df_nyc['CMPLNT_FR_DT'] <= pd.Timestamp('2019-06-15'))]['total_count'].sum()"
   ]
  },
  {
   "cell_type": "code",
   "execution_count": 56,
   "id": "272a7e85",
   "metadata": {},
   "outputs": [
    {
     "data": {
      "text/plain": [
       "105216"
      ]
     },
     "execution_count": 56,
     "metadata": {},
     "output_type": "execute_result"
    }
   ],
   "source": [
    "# lockdown 2021\n",
    "df_nyc[(df_nyc['CMPLNT_FR_DT'] >= pd.Timestamp('2021-03-19')) & (df_nyc['CMPLNT_FR_DT'] <= pd.Timestamp('2021-06-15'))]['total_count'].sum()"
   ]
  }
 ],
 "metadata": {
  "kernelspec": {
   "display_name": "Python 3 (ipykernel)",
   "language": "python",
   "name": "python3"
  },
  "language_info": {
   "codemirror_mode": {
    "name": "ipython",
    "version": 3
   },
   "file_extension": ".py",
   "mimetype": "text/x-python",
   "name": "python",
   "nbconvert_exporter": "python",
   "pygments_lexer": "ipython3",
   "version": "3.9.12"
  }
 },
 "nbformat": 4,
 "nbformat_minor": 5
}
